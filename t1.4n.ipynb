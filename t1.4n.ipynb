{
 "cells": [
  {
   "cell_type": "code",
   "execution_count": 1,
   "metadata": {},
   "outputs": [
    {
     "name": "stdout",
     "output_type": "stream",
     "text": [
      "Name\t\t\t\tAge\tELO Rating\tTenacity\tisBoring\tScore\n",
      "Courage the Cowardly Dog\t25\t1000.39\t\t1000\t\tFalse\t\t0\n",
      "Princess peach          \t23\t945.65\t\t50\t\tTrue\t\t0\n",
      "Walter White            \t50\t1650.73\t\t750\t\tFalse\t\t0\n",
      "Rory Gilmore            \t16\t1700.87\t\t500\t\tFalse\t\t0\n",
      "Anthony Fantano         \t37\t1400.45\t\t400\t\tTrue\t\t0\n",
      "Beth Harmon             \t20\t2500.34\t\t150\t\tFalse\t\t0\n"
     ]
    }
   ],
   "source": [
    "#total matches played = 30\n",
    "class ChessPlayer:\n",
    "    def __init__(self,name,age,ELO_Rating,tenacity,isBoring):\n",
    "        self.name=name\n",
    "        self.age=age\n",
    "        self.ELO_Rating=ELO_Rating\n",
    "        self.tenacity=tenacity\n",
    "        self.isBoring=isBoring\n",
    "        self.score=0\n",
    "\n",
    "    def __str__(self):\n",
    "    \n",
    "        return f'{self.name}\\t{self.age}\\t{self.ELO_Rating}\\t\\t{self.tenacity}\\t\\t{self.isBoring}\\t\\t{self.score}'\n",
    "\n",
    "print('Name\\t\\t\\t\\tAge\\tELO Rating\\tTenacity\\tisBoring\\tScore')\n",
    "p1=ChessPlayer('Courage the Cowardly Dog',25,1000.39,1000,False)\n",
    "print(p1)\n",
    "p2=ChessPlayer('Princess peach          ',23,945.65,50,True)\n",
    "print(p2)\n",
    "p3=ChessPlayer('Walter White            ',50,1650.73,750,False)\n",
    "print(p3)\n",
    "p4=ChessPlayer('Rory Gilmore            ',16,1700.87,500,False)\n",
    "print(p4)\n",
    "p5=ChessPlayer('Anthony Fantano         ',37,1400.45,400,True)\n",
    "print(p5)\n",
    "p6=ChessPlayer('Beth Harmon             ',20,2500.34,150,False)\n",
    "print(p6)\n",
    "p=[p1,p2,p3,p4,p5,p6]"
   ]
  },
  {
   "cell_type": "code",
   "execution_count": 2,
   "metadata": {},
   "outputs": [],
   "source": [
    "import random\n",
    "def simulateMatch(x,y):\n",
    "    diff = abs(x.ELO_Rating-y.ELO_Rating)\n",
    "    if diff>100:\n",
    "        if x.ELO_Rating>y.ELO_Rating:\n",
    "            x.score+=1\n",
    "        else:\n",
    "            y.score+=1\n",
    "        \n",
    "    elif x.isBoring or y.isBoring:\n",
    "        x.score+=0.5\n",
    "        y.score+=0.5\n",
    "\n",
    "    elif diff>50 and diff<=100:\n",
    "        if x.ELO_Rating>y.ELO_Rating:\n",
    "            t=random.randint(1,10)*y.tenacity\n",
    "            if x.ELO_Rating>t:\n",
    "                x.score+=1\n",
    "            else:\n",
    "                y.score+=1\n",
    "        elif y.ELO_Rating>x.ELO_Rating:\n",
    "            t=random.randint(1,10)*x.tenacity\n",
    "            if y.ELO_Rating>t:\n",
    "                y.score+=1\n",
    "            else:\n",
    "                x.score+=1\n",
    "    elif diff<50:\n",
    "        if x.tenacity>y.tenacity:\n",
    "            x.score+=1\n",
    "        else:\n",
    "            y.score+=1\n",
    "\n"
   ]
  },
  {
   "cell_type": "code",
   "execution_count": 3,
   "metadata": {},
   "outputs": [],
   "source": [
    "def s(p):\n",
    "    for i in range(len(p)):\n",
    "        for j in range(i+1,len(p)):\n",
    "            for v in range(2):\n",
    "                x=p[i]\n",
    "                y=p[j]\n",
    "                simulateMatch(x,y)"
   ]
  },
  {
   "cell_type": "code",
   "execution_count": 4,
   "metadata": {},
   "outputs": [
    {
     "name": "stdout",
     "output_type": "stream",
     "text": [
      "results:\n",
      "Courage the Cowardly Dog\t25\t1000.39\t\t1000\t\tFalse\t\t1.0\n",
      "Princess peach          \t23\t945.65\t\t50\t\tTrue\t\t1.0\n",
      "Walter White            \t50\t1650.73\t\t750\t\tFalse\t\t8\n",
      "Rory Gilmore            \t16\t1700.87\t\t500\t\tFalse\t\t6\n",
      "Anthony Fantano         \t37\t1400.45\t\t400\t\tTrue\t\t4\n",
      "Beth Harmon             \t20\t2500.34\t\t150\t\tFalse\t\t10\n"
     ]
    }
   ],
   "source": [
    "s(p)\n",
    "print('results:')\n",
    "for q in p:\n",
    "    print(q)"
   ]
  }
 ],
 "metadata": {
  "kernelspec": {
   "display_name": "Python 3",
   "language": "python",
   "name": "python3"
  },
  "language_info": {
   "codemirror_mode": {
    "name": "ipython",
    "version": 3
   },
   "file_extension": ".py",
   "mimetype": "text/x-python",
   "name": "python",
   "nbconvert_exporter": "python",
   "pygments_lexer": "ipython3",
   "version": "3.11.3"
  },
  "orig_nbformat": 4
 },
 "nbformat": 4,
 "nbformat_minor": 2
}
