{
 "cells": [
  {
   "cell_type": "code",
   "execution_count": 1,
   "metadata": {},
   "outputs": [
    {
     "data": {
      "text/plain": [
       "[1, 3, 5, 11, 13, 15]"
      ]
     },
     "execution_count": 1,
     "metadata": {},
     "output_type": "execute_result"
    }
   ],
   "source": [
    "lst=['0001','0011','0101','1011','1101','1111']\n",
    "new_lst=[]\n",
    "for x in lst:\n",
    "    new_lst.append(int(x,2))\n",
    "\n",
    "new_lst"
   ]
  },
  {
   "cell_type": "code",
   "execution_count": 2,
   "metadata": {},
   "outputs": [
    {
     "name": "stdout",
     "output_type": "stream",
     "text": [
      "[5, 11, 13, 15, 4]\n",
      "[11, 13, 15, 9]\n",
      "[13, 15, 20]\n",
      "[20, 28]\n"
     ]
    }
   ],
   "source": [
    "def fn():\n",
    "    while len(new_lst)>2:\n",
    "        m1=min(new_lst)\n",
    "        new_lst.remove(m1)\n",
    "        m2=min(new_lst)\n",
    "        new_lst.remove(m2)\n",
    "        sum=m1+m2\n",
    "        new_lst.append(sum)\n",
    "        print(new_lst)\n",
    "\n",
    "fn()"
   ]
  },
  {
   "cell_type": "code",
   "execution_count": 3,
   "metadata": {},
   "outputs": [
    {
     "data": {
      "text/plain": [
       "8"
      ]
     },
     "execution_count": 3,
     "metadata": {},
     "output_type": "execute_result"
    }
   ],
   "source": [
    "new_lst=abs(new_lst[1]-new_lst[0])\n",
    "new_lst"
   ]
  }
 ],
 "metadata": {
  "kernelspec": {
   "display_name": "Python 3",
   "language": "python",
   "name": "python3"
  },
  "language_info": {
   "codemirror_mode": {
    "name": "ipython",
    "version": 3
   },
   "file_extension": ".py",
   "mimetype": "text/x-python",
   "name": "python",
   "nbconvert_exporter": "python",
   "pygments_lexer": "ipython3",
   "version": "3.11.3"
  },
  "orig_nbformat": 4
 },
 "nbformat": 4,
 "nbformat_minor": 2
}
