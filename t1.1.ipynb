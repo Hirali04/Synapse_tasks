{
 "cells": [
  {
   "cell_type": "code",
   "execution_count": 1,
   "metadata": {},
   "outputs": [
    {
     "name": "stdout",
     "output_type": "stream",
     "text": [
      "[0, 1, 2, 3, 4]\n",
      "['DocToR_sTRAngE', 'sPidERmaN', 'MoON_KnigHT', 'caPTAIN_aMERIca', 'hULK']\n"
     ]
    }
   ],
   "source": [
    "jumbled_superheros=['DocToR_sTRAngE','sPidERmaN','MoON_KnigHT','caPTAIN_aMERIca','hULK']\n",
    "indices=[]\n",
    "dn=[]\n",
    "for index,a in enumerate(jumbled_superheros):\n",
    "    indices.append(index)\n",
    "    dn.append(a)\n",
    "\n",
    "print(indices)\n",
    "print(dn)"
   ]
  },
  {
   "cell_type": "code",
   "execution_count": 70,
   "metadata": {},
   "outputs": [
    {
     "data": {
      "text/plain": [
       "['doctor strange', 'spiderman', 'moon knight', 'captain america', 'hulk']"
      ]
     },
     "execution_count": 70,
     "metadata": {},
     "output_type": "execute_result"
    }
   ],
   "source": [
    "decoded_names=[]\n",
    "for x in dn:\n",
    "    y=x.lower()\n",
    "    z=y.replace('_',' ')\n",
    "    decoded_names.append(z)\n",
    "\n",
    "decoded_names"
   ]
  },
  {
   "cell_type": "code",
   "execution_count": 22,
   "metadata": {},
   "outputs": [
    {
     "name": "stdout",
     "output_type": "stream",
     "text": [
      "5\n"
     ]
    }
   ],
   "source": [
    "x=lambda a:len(a)\n",
    "print(x(jumbled_superheros))"
   ]
  },
  {
   "cell_type": "code",
   "execution_count": 42,
   "metadata": {},
   "outputs": [
    {
     "data": {
      "text/plain": [
       "[14, 9, 11, 15, 4]"
      ]
     },
     "execution_count": 42,
     "metadata": {},
     "output_type": "execute_result"
    }
   ],
   "source": [
    "nl=map(lambda n:len(n),decoded_names)\n",
    "name_lengths=list(nl)\n",
    "name_lengths\n"
   ]
  },
  {
   "cell_type": "code",
   "execution_count": 84,
   "metadata": {},
   "outputs": [
    {
     "data": {
      "text/plain": [
       "[4, 1, 2, 0, 3]"
      ]
     },
     "execution_count": 84,
     "metadata": {},
     "output_type": "execute_result"
    }
   ],
   "source": [
    "indices.sort(key= lambda x:name_lengths[x]) #try once again, understand properly\n",
    "indices"
   ]
  },
  {
   "cell_type": "code",
   "execution_count": 80,
   "metadata": {},
   "outputs": [
    {
     "name": "stdout",
     "output_type": "stream",
     "text": [
      "Phase 5 kick-off list:\n",
      "1 . Hulk\n",
      "2 . Spiderman\n",
      "3 . Moon Knight\n",
      "4 . Doctor Strange\n",
      "5 . Captain America\n"
     ]
    }
   ],
   "source": [
    "c=0\n",
    "print('Phase 5 kick-off list:')\n",
    "for i in indices:\n",
    "    c+=1\n",
    "    print(str(c),\".\",decoded_names[i].title())"
   ]
  }
 ],
 "metadata": {
  "kernelspec": {
   "display_name": "Python 3",
   "language": "python",
   "name": "python3"
  },
  "language_info": {
   "codemirror_mode": {
    "name": "ipython",
    "version": 3
   },
   "file_extension": ".py",
   "mimetype": "text/x-python",
   "name": "python",
   "nbconvert_exporter": "python",
   "pygments_lexer": "ipython3",
   "version": "3.11.3"
  },
  "orig_nbformat": 4
 },
 "nbformat": 4,
 "nbformat_minor": 2
}
