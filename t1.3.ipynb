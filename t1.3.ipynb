{
 "cells": [
  {
   "cell_type": "code",
   "execution_count": 42,
   "metadata": {},
   "outputs": [],
   "source": [
    "encoded_lists=[\n",
    "    [1,3,4,5,7,8],\n",
    "    [12,13,1,2,3,9],\n",
    "    [11,13,15,17,19],\n",
    "    [10,11,12,13,14,19,20,21]\n",
    "]"
   ]
  },
  {
   "cell_type": "code",
   "execution_count": 43,
   "metadata": {},
   "outputs": [
    {
     "data": {
      "text/plain": [
       "[[1, 7, 8], [12, 13, 9], [11, 13, 15, 17, 19], [13, 14]]"
      ]
     },
     "execution_count": 43,
     "metadata": {},
     "output_type": "execute_result"
    }
   ],
   "source": [
    "def explode_chains(encoded_lists):\n",
    "    for list in encoded_lists:\n",
    "        for i in range(2,len(list)):\n",
    "            if i>=len(list):\n",
    "                i=2\n",
    "            if list[i]-list[i-1]==1 and list[i-1]-list[i-2]==1:\n",
    "                list.remove(list[i])\n",
    "                list.remove(list[i-1])\n",
    "                list.remove(list[i-2])\n",
    "                if len(list)<=2:\n",
    "                    break\n",
    "    return encoded_lists\n",
    "\n",
    "\n",
    "explode_chains(encoded_lists)"
   ]
  }
 ],
 "metadata": {
  "kernelspec": {
   "display_name": "Python 3",
   "language": "python",
   "name": "python3"
  },
  "language_info": {
   "codemirror_mode": {
    "name": "ipython",
    "version": 3
   },
   "file_extension": ".py",
   "mimetype": "text/x-python",
   "name": "python",
   "nbconvert_exporter": "python",
   "pygments_lexer": "ipython3",
   "version": "3.11.3"
  },
  "orig_nbformat": 4
 },
 "nbformat": 4,
 "nbformat_minor": 2
}
